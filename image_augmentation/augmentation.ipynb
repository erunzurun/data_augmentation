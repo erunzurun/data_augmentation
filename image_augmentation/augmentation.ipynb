{
 "cells": [
  {
   "cell_type": "code",
   "execution_count": 12,
   "id": "19000b91",
   "metadata": {},
   "outputs": [],
   "source": [
    "import numpy as np\n",
    "import tensorflow as tf\n",
    "import matplotlib.pyplot as plt\n",
    "import os\n",
    "import cv2\n",
    "from PIL import Image\n",
    "import os\n",
    "from random import randint\n",
    "import glob\n",
    "from tensorflow.keras.preprocessing import image\n",
    "from tensorflow.keras.preprocessing.image import ImageDataGenerator\n",
    "import imutils"
   ]
  },
  {
   "cell_type": "code",
   "execution_count": 38,
   "id": "2d4219d2",
   "metadata": {},
   "outputs": [],
   "source": [
    "def normalize_img(X):\n",
    "    X=X/np.max(X)\n",
    "    mean=np.mean(X)\n",
    "    std=np.std(X)\n",
    "    return ((X-mean)/std)"
   ]
  },
  {
   "cell_type": "code",
   "execution_count": 45,
   "id": "97341a5d",
   "metadata": {},
   "outputs": [],
   "source": [
    "def denormalize_img(X):\n",
    "    \n",
    "    mean=np.mean(X)\n",
    "    std=np.std(X)\n",
    "    X=X*std+mean\n",
    "    X=np.clip(X,0,1)\n",
    "    return X"
   ]
  },
  {
   "cell_type": "code",
   "execution_count": 46,
   "id": "f21daa4c",
   "metadata": {},
   "outputs": [],
   "source": [
    "def mixup_2_images(image_a, image_b):\n",
    "    # 혼합 비율 선택\n",
    "    a = 0.5\n",
    "           \n",
    "    mixed_image = (1-a)*image_a + a*image_b\n",
    "\n",
    "    return mixed_image"
   ]
  },
  {
   "cell_type": "code",
   "execution_count": 47,
   "id": "24a8853b",
   "metadata": {},
   "outputs": [],
   "source": [
    "img_dir = \"./image/\"\n",
    "save_dir = \"./save/\""
   ]
  },
  {
   "cell_type": "code",
   "execution_count": 48,
   "id": "7c1724b2",
   "metadata": {},
   "outputs": [
    {
     "name": "stdout",
     "output_type": "stream",
     "text": [
      "['sample_1.jpg', 'sample_2.jpg', 'sample_3.jpg', 'sample_4.jpg']\n"
     ]
    }
   ],
   "source": [
    "img_list = os.listdir(img_dir)\n",
    "print(img_list)"
   ]
  },
  {
   "cell_type": "code",
   "execution_count": 49,
   "id": "7adde963",
   "metadata": {},
   "outputs": [
    {
     "data": {
      "text/plain": [
       "4"
      ]
     },
     "execution_count": 49,
     "metadata": {},
     "output_type": "execute_result"
    }
   ],
   "source": [
    "len(img_list)"
   ]
  },
  {
   "cell_type": "code",
   "execution_count": 50,
   "id": "dd42b779",
   "metadata": {},
   "outputs": [],
   "source": [
    "ability_list = ['rot', 'flip_up', 'flip_right', 'crop', 'translation', 'color_change', 'mosaic', 'mix_up']"
   ]
  },
  {
   "cell_type": "code",
   "execution_count": 75,
   "id": "d218e104",
   "metadata": {},
   "outputs": [],
   "source": [
    "new_width = 640\n",
    "new_height = 640\n",
    "\n",
    "for abi in range(len(ability_list)):\n",
    "    ability = ability_list[abi]\n",
    "                 \n",
    "    #rot\n",
    "    if ability == ability_list[0]:                \n",
    "        for i in range(len(img_list)):\n",
    "            image_path = img_dir + img_list[i]\n",
    "            name = img_list[i]\n",
    "            file_name = name.replace('.jpg', '')\n",
    "            img_array = np.fromfile(image_path)\n",
    "            cv2_img = cv2.imdecode(img_array, cv2.IMREAD_COLOR)\n",
    "            img_final = cv2.rotate(cv2_img, cv2.ROTATE_90_CLOCKWISE)\n",
    "            \n",
    "            save_file = save_dir + f\"{ability}/{file_name}_{ability}_{i}.jpg\"\n",
    "            cv2.imwrite(save_file, img_final)\n",
    "  \n",
    "    #flip_up\n",
    "    if ability == ability_list[1]:                \n",
    "        for i in range(len(img_list)):\n",
    "            image_path = img_dir + img_list[i]\n",
    "            name = img_list[i]\n",
    "            file_name = name.replace('.jpg', '')\n",
    "            img_array = np.fromfile(image_path)\n",
    "            cv2_img = cv2.imdecode(img_array, cv2.IMREAD_COLOR)\n",
    "            img_final = cv2.flip(cv2_img, 0)\n",
    "            \n",
    "            save_file = save_dir + f\"{ability}/{file_name}_{ability}_{i}.jpg\"\n",
    "            cv2.imwrite(save_file, img_final)\n",
    "      \n",
    "    #flip_right\n",
    "    if ability == ability_list[2]:                \n",
    "        for i in range(len(img_list)):\n",
    "            image_path = img_dir + img_list[i]\n",
    "            name = img_list[i]\n",
    "            file_name = name.replace('.jpg', '')\n",
    "            img_array = np.fromfile(image_path)\n",
    "            cv2_img = cv2.imdecode(img_array, cv2.IMREAD_COLOR)\n",
    "            img_final = cv2.flip(cv2_img, 1)\n",
    "            \n",
    "            save_file = save_dir + f\"{ability}/{file_name}_{ability}_{i}.jpg\"\n",
    "            cv2.imwrite(save_file, img_final)\n",
    "         \n",
    "    #crop\n",
    "    if ability == ability_list[3]:                \n",
    "        for i in range(len(img_list)):\n",
    "            image_path = img_dir + img_list[i]\n",
    "            name = img_list[i]\n",
    "            file_name = name.replace('.jpg', '')\n",
    "            img_array = np.fromfile(image_path)\n",
    "            cv2_img = cv2.imdecode(img_array, cv2.IMREAD_COLOR)\n",
    "\n",
    "            h, w, d = cv2_img.shape\n",
    "\n",
    "            ratio = 0.2\n",
    "\n",
    "            crop_h = h*ratio\n",
    "            crop_w = w*ratio\n",
    "\n",
    "            img_final = cv2_img[0: int(h - crop_h), 0: int(w - crop_w)]\n",
    "            \n",
    "            save_file = save_dir + f\"{ability}/{file_name}_{ability}_{i}.jpg\"\n",
    "            cv2.imwrite(save_file, img_final)\n",
    "        \n",
    "    #translation\n",
    "    if ability == ability_list[4]:                \n",
    "        for i in range(len(img_list)):\n",
    "            image_path = img_dir + img_list[i]\n",
    "            name = img_list[i]\n",
    "            file_name = name.replace('.jpg', '')\n",
    "            img_array = np.fromfile(image_path)\n",
    "            cv2_img = cv2.imdecode(img_array, cv2.IMREAD_COLOR)\n",
    "            img_final = imutils.translate(cv2_img, 10, 20)\n",
    "            \n",
    "            save_file = save_dir + f\"{ability}/{file_name}_{ability}_{i}.jpg\"\n",
    "            cv2.imwrite(save_file, img_final)\n",
    "            \n",
    "    #color_change\n",
    "    if ability == ability_list[5]:                \n",
    "        for i in range(len(img_list)):\n",
    "            image_path = img_dir + img_list[i]\n",
    "            name = img_list[i]\n",
    "            file_name = name.replace('.jpg', '')\n",
    "            img_array = np.fromfile(image_path)\n",
    "            cv2_img = cv2.imdecode(img_array, cv2.IMREAD_COLOR)\n",
    "            img_final = cv2.cvtColor(cv2_img, cv2.COLOR_RGB2BGR)\n",
    "            \n",
    "            save_file = save_dir + f\"{ability}/{file_name}_{ability}_{i}.jpg\"\n",
    "            cv2.imwrite(save_file, img_final)\n",
    "      \n",
    "    #mosaic\n",
    "    if ability == ability_list[6]:                \n",
    "        for i in range(len(img_list)):\n",
    "            name = img_list[i]\n",
    "            file_name = name.replace('.jpg', '')\n",
    "            img_size=len(img_list)-1\n",
    "\n",
    "            random_index=randint(0,img_size)\n",
    "            image_path = img_dir + \"/\" + img_list[random_index]\n",
    "            image1 = Image.open(image_path)\n",
    "\n",
    "            random_index=randint(0,img_size)\n",
    "            image_path = img_dir + \"/\" + img_list[random_index]\n",
    "            image2 = Image.open(image_path)\n",
    "\n",
    "            random_index=randint(0,img_size)\n",
    "            image_path = img_dir + \"/\" + img_list[random_index]\n",
    "            image3 = Image.open(image_path)\n",
    "\n",
    "            random_index=randint(0,img_size)\n",
    "            image_path = img_dir + \"/\" + img_list[random_index]\n",
    "            image4 = Image.open(image_path)\n",
    "\n",
    "            # 이미지를 2x2 격자로 합치기\n",
    "            img_final = np.vstack([np.hstack([image1, image2]), np.hstack([image3, image4])])\n",
    "            \n",
    "            save_file = save_dir + f\"{ability}/{file_name}_{ability}_{i}.jpg\"\n",
    "            cv2.imwrite(save_file, img_final)\n",
    "   \n",
    "    #mix_up\n",
    "    if ability == ability_list[7]:                \n",
    "        for i in range(len(img_list)):\n",
    "            image_path = img_dir + img_list[i]\n",
    "            name = img_list[i]\n",
    "            file_name = name.replace('.jpg', '')\n",
    "\n",
    "            image = Image.open(image_path)\n",
    "            \n",
    "            first = image.resize((new_width, new_height))\n",
    "            first_img = np.array(first)\n",
    "\n",
    "            try:\n",
    "                image_path_2 = img_dir + img_list[i+1]\n",
    "                image2 = Image.open(image_path_2)\n",
    "            except Exception as e:\n",
    "                image_path_2 = img_dir + img_list[0]\n",
    "                image2 = Image.open(image_path_2)\n",
    "                \n",
    "\n",
    "            second = image2.resize((new_width, new_height))\n",
    "            second_img = np.array(second)\n",
    "            \n",
    "            #user parameter\n",
    "            lamda=0.5\n",
    "\n",
    "            mixed_image = mixup_2_images(first_img, second_img)\n",
    "            img_final = tf.cast(mixed_image, tf.uint8)\n",
    "            img_final = np.array(img_final)\n",
    "            \n",
    "            save_file = save_dir + f\"{ability}/{file_name}_{ability}_{i}.jpg\"\n",
    "            cv2.imwrite(save_file, img_final)    "
   ]
  }
 ],
 "metadata": {
  "kernelspec": {
   "display_name": "Python 3 (ipykernel)",
   "language": "python",
   "name": "python3"
  },
  "language_info": {
   "codemirror_mode": {
    "name": "ipython",
    "version": 3
   },
   "file_extension": ".py",
   "mimetype": "text/x-python",
   "name": "python",
   "nbconvert_exporter": "python",
   "pygments_lexer": "ipython3",
   "version": "3.11.4"
  }
 },
 "nbformat": 4,
 "nbformat_minor": 5
}
